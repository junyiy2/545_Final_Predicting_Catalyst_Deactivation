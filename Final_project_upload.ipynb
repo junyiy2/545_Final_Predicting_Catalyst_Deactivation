{
 "cells": [
  {
   "cell_type": "markdown",
   "id": "27ce37ce-1062-450c-83f3-e1809ad8afcb",
   "metadata": {},
   "source": [
    "# **CHEM E 545 Final Project**\n",
    "## **Predicting Catalyst Deactivation using Multi-Layer Perceptron** <br>\n",
    "In this final project, you will develop a multi-layer perceptron (MLP) neural network using scikit-learn as well as your own customized deep learning model using tensorflow to predict catalyst deactivation in chemical processes. Catalysts are essential in many chemical engineering operations, but they can lose effectiveness over time due to various mechanisms including poisoning, fouling, sintering, and thermal degradation. Predicting when a catalyst will deactivate is crucial for scheduling maintenance and optimizing process economics.\n",
    "You have been provided with a .csv file with some attributes about the catalyst and a deactivation state.  Do data preprocessing if necessary at any step, always use a random seed wherever you can and describe your methods and results in detail. All plots should have labels and legends. \n",
    "Complete the tasks below (80 points):"
   ]
  },
  {
   "cell_type": "markdown",
   "id": "f18c2999",
   "metadata": {},
   "source": [
    "### **1. Data Preprocessing**\n",
    "check for the presence of categorial variables, decide how will you handle it, handle any missing values and visualize the class distribution.  Split the data into training and testing sets using stratified sampling (used when there are class imbalances) and preprocess your data using standard scaler ( note: categorial features are not processed using standard scaler) (10 points)."
   ]
  },
  {
   "cell_type": "markdown",
   "id": "db465f90",
   "metadata": {},
   "source": [
    "### **2. Data Visualization and Unsupervised Classification**\n",
    "Visualize the data and implement PCA (justify the choice of the optimal number of components) and K-means to see if you can separate different states. Finally, try doing K-means to see if you get better clustering. Report your findings. (10)"
   ]
  },
  {
   "cell_type": "markdown",
   "id": "3960e31f",
   "metadata": {},
   "source": [
    "### **3. Classification of materials**\n",
    "Implement a MLP classifier on the data and estimate the accuracies, F-1 score and confusion matrix. Also carry out 5 fold stratified cross validation(read and explain this) and report the mean F1 score. (20)"
   ]
  },
  {
   "cell_type": "markdown",
   "id": "44649ddd",
   "metadata": {},
   "source": [
    "### **4. Hyper-parameter tuning**\n",
    "Implement hyperparameter tuning with 3fold cross validation on hidden layer sizes (includes both number of hidden layers and neurons), activation function, alpha (regularization) and the learning rate. Report the best performing model and the respective hyperparameters with highest accuracy. Retrain with the best model and report the F1 score on the test set.  (20)"
   ]
  },
  {
   "cell_type": "markdown",
   "id": "3e5a844f",
   "metadata": {},
   "source": [
    "### **5. Neural Networks using Tensorlow**\n",
    "In the era of generative AI, which is powered by neural networks, many architectures are becoming available to achieve higher accuracy. Implement a neural network in tensorflow using an architecture of your choice (describe the choice). Report the resulting accuracy and F1 score you get on the test set. (20)"
   ]
  },
  {
   "cell_type": "markdown",
   "id": "07e631be-1a5a-4f59-8779-feac02ee9dbf",
   "metadata": {},
   "source": [
    "### **Cool things you can try doing if you want that won't be graded** <br>\n",
    "1. Remove outliers to see if that improves the classification\n",
    "2. Try out data visualization techniques that were not covered in the course\n",
    "3. Implement feature selection and then try out MLP\n",
    "4. See if you can implement transfer learning and hyperparameter tuning for your neural network model"
   ]
  }
 ],
 "metadata": {
  "kernelspec": {
   "display_name": "base",
   "language": "python",
   "name": "python3"
  },
  "language_info": {
   "codemirror_mode": {
    "name": "ipython",
    "version": 3
   },
   "file_extension": ".py",
   "mimetype": "text/x-python",
   "name": "python",
   "nbconvert_exporter": "python",
   "pygments_lexer": "ipython3",
   "version": "3.12.7"
  }
 },
 "nbformat": 4,
 "nbformat_minor": 5
}
